{
 "cells": [
  {
   "cell_type": "code",
   "execution_count": 1,
   "metadata": {},
   "outputs": [
    {
     "name": "stdout",
     "output_type": "stream",
     "text": [
      "<class 'pandas.core.frame.DataFrame'>\n",
      "RangeIndex: 21613 entries, 0 to 21612\n",
      "Data columns (total 23 columns):\n",
      " #   Column            Non-Null Count  Dtype  \n",
      "---  ------            --------------  -----  \n",
      " 0   cid               21613 non-null  int64  \n",
      " 1   dayhours          21613 non-null  object \n",
      " 2   price             21613 non-null  int64  \n",
      " 3   room_bed          21505 non-null  float64\n",
      " 4   room_bath         21505 non-null  float64\n",
      " 5   living_measure    21596 non-null  float64\n",
      " 6   lot_measure       21571 non-null  float64\n",
      " 7   ceil              21571 non-null  object \n",
      " 8   coast             21612 non-null  object \n",
      " 9   sight             21556 non-null  float64\n",
      " 10  condition         21556 non-null  object \n",
      " 11  quality           21612 non-null  float64\n",
      " 12  ceil_measure      21612 non-null  float64\n",
      " 13  basement          21612 non-null  float64\n",
      " 14  yr_built          21612 non-null  object \n",
      " 15  yr_renovated      21613 non-null  int64  \n",
      " 16  zipcode           21613 non-null  int64  \n",
      " 17  lat               21613 non-null  float64\n",
      " 18  long              21613 non-null  object \n",
      " 19  living_measure15  21447 non-null  float64\n",
      " 20  lot_measure15     21584 non-null  float64\n",
      " 21  furnished         21584 non-null  float64\n",
      " 22  total_area        21584 non-null  object \n",
      "dtypes: float64(12), int64(4), object(7)\n",
      "memory usage: 3.8+ MB\n"
     ]
    }
   ],
   "source": [
    "import numpy as np\n",
    "import pandas as pd\n",
    "import seaborn as sns\n",
    "import matplotlib.pyplot as plt\n",
    "%matplotlib inline\n",
    "\n",
    "df= pd.read_excel(\"C:/Users/RAM/Downloads/innercity.xlsx\")\n",
    "df.info()"
   ]
  },
  {
   "cell_type": "code",
   "execution_count": 2,
   "metadata": {},
   "outputs": [
    {
     "data": {
      "text/plain": [
       "price                 0\n",
       "room_bed            108\n",
       "room_bath           108\n",
       "living_measure       17\n",
       "lot_measure          42\n",
       "ceil                 72\n",
       "coast                31\n",
       "sight                57\n",
       "condition            85\n",
       "quality               1\n",
       "ceil_measure          1\n",
       "basement              1\n",
       "yr_built             15\n",
       "yr_renovated          0\n",
       "zipcode               0\n",
       "lat                   0\n",
       "long                 34\n",
       "living_measure15    166\n",
       "lot_measure15        29\n",
       "furnished            29\n",
       "total_area           68\n",
       "dtype: int64"
      ]
     },
     "execution_count": 2,
     "metadata": {},
     "output_type": "execute_result"
    }
   ],
   "source": [
    "df.drop(['cid','dayhours'],axis=1,inplace=True)\n",
    "\n",
    "for columns in df.columns:\n",
    "    df[columns]=df[columns].replace('$',np.nan)\n",
    "    \n",
    "df.isnull().sum()"
   ]
  },
  {
   "cell_type": "code",
   "execution_count": 3,
   "metadata": {
    "scrolled": true
   },
   "outputs": [
    {
     "data": {
      "text/plain": [
       "price               False\n",
       "room_bed            False\n",
       "room_bath           False\n",
       "living_measure      False\n",
       "lot_measure         False\n",
       "ceil                False\n",
       "coast               False\n",
       "sight               False\n",
       "condition           False\n",
       "quality             False\n",
       "ceil_measure        False\n",
       "basement            False\n",
       "yr_built            False\n",
       "yr_renovated        False\n",
       "zipcode             False\n",
       "lat                 False\n",
       "long                False\n",
       "living_measure15    False\n",
       "lot_measure15       False\n",
       "furnished           False\n",
       "total_area          False\n",
       "dtype: bool"
      ]
     },
     "execution_count": 3,
     "metadata": {},
     "output_type": "execute_result"
    }
   ],
   "source": [
    "#handling with null values\n",
    "columns=['price', 'room_bed', 'room_bath', 'living_measure',\n",
    "       'lot_measure', 'ceil', 'coast', 'condition', 'quality',\n",
    "       'ceil_measure', 'basement', 'yr_built', 'yr_renovated',\n",
    "       'lat', 'long', 'living_measure15', 'lot_measure15', 'furnished','sight','total_area']\n",
    "for i in columns:\n",
    "    df[i]=df[i].fillna(df[i].median())\n",
    "    \n",
    "#double checking NaN\n",
    "df.isnull().any()"
   ]
  },
  {
   "cell_type": "code",
   "execution_count": 4,
   "metadata": {
    "scrolled": true
   },
   "outputs": [
    {
     "data": {
      "text/plain": [
       "<matplotlib.axes._subplots.AxesSubplot at 0x1dd5307df88>"
      ]
     },
     "execution_count": 4,
     "metadata": {},
     "output_type": "execute_result"
    },
    {
     "data": {
      "image/png": "[encoded data removed]",
      "text/plain": [
       "<Figure size 432x288 with 1 Axes>"
      ]
     },
     "metadata": {
      "needs_background": "light"
     },
     "output_type": "display_data"
    }
   ],
   "source": [
    "sns.countplot('sight',data=df)"
   ]
  },
  {
   "cell_type": "code",
   "execution_count": 5,
   "metadata": {},
   "outputs": [
    {
     "data": {
      "text/plain": [
       "<matplotlib.axes._subplots.AxesSubplot at 0x1dd520ac208>"
      ]
     },
     "execution_count": 5,
     "metadata": {},
     "output_type": "execute_result"
    },
    {
     "data": {
      "image/png": "[encoded data removed]",
      "text/plain": [
       "<Figure size 432x288 with 1 Axes>"
      ]
     },
     "metadata": {
      "needs_background": "light"
     },
     "output_type": "display_data"
    }
   ],
   "source": [
    "df.drop('sight', axis=1, inplace=True)\n",
    "\n",
    "sns.countplot('room_bed',data=df)"
   ]
  },
  {
   "cell_type": "code",
   "execution_count": 16,
   "metadata": {
    "scrolled": true
   },
   "outputs": [
    {
     "data": {
      "text/plain": [
       "<matplotlib.axes._subplots.AxesSubplot at 0x1dd517c6f08>"
      ]
     },
     "execution_count": 16,
     "metadata": {},
     "output_type": "execute_result"
    },
    {
     "data": {
      "image/png": "[encoded data removed]",
      "text/plain": [
       "<Figure size 1080x360 with 1 Axes>"
      ]
     },
     "metadata": {
      "needs_background": "light"
     },
     "output_type": "display_data"
    }
   ],
   "source": [
    "df=df[df.room_bed >0]\n",
    "df=df[df.room_bed <7]\n",
    "\n",
    "plt.figure(figsize=(15,5))\n",
    "sns.countplot('room_bath',data=df)"
   ]
  },
  {
   "cell_type": "code",
   "execution_count": 18,
   "metadata": {},
   "outputs": [
    {
     "data": {
      "text/plain": [
       "<matplotlib.axes._subplots.AxesSubplot at 0x1dd51795a88>"
      ]
     },
     "execution_count": 18,
     "metadata": {},
     "output_type": "execute_result"
    },
    {
     "data": {
      "image/png": "[encoded data removed]",
      "text/plain": [
       "<Figure size 432x288 with 1 Axes>"
      ]
     },
     "metadata": {
      "needs_background": "light"
     },
     "output_type": "display_data"
    }
   ],
   "source": [
    "df['room_bath']=df['room_bath'].apply(np.round)\n",
    "sns.countplot('room_bath',data=df)"
   ]
  },
  {
   "cell_type": "code",
   "execution_count": 19,
   "metadata": {},
   "outputs": [],
   "source": [
    "df=df[df.room_bath >0]\n",
    "df=df[df.room_bath <5]"
   ]
  },
  {
   "cell_type": "code",
   "execution_count": 20,
   "metadata": {},
   "outputs": [
    {
     "data": {
      "text/plain": [
       "<matplotlib.axes._subplots.AxesSubplot at 0x1dd51c09e88>"
      ]
     },
     "execution_count": 20,
     "metadata": {},
     "output_type": "execute_result"
    },
    {
     "data": {
      "image/png": "[encoded data removed]",
      "text/plain": [
       "<Figure size 432x288 with 1 Axes>"
      ]
     },
     "metadata": {
      "needs_background": "light"
     },
     "output_type": "display_data"
    }
   ],
   "source": [
    "sns.countplot('ceil',data=df)"
   ]
  },
  {
   "cell_type": "code",
   "execution_count": 21,
   "metadata": {
    "scrolled": true
   },
   "outputs": [
    {
     "data": {
      "text/plain": [
       "<matplotlib.axes._subplots.AxesSubplot at 0x1dd51c12a08>"
      ]
     },
     "execution_count": 21,
     "metadata": {},
     "output_type": "execute_result"
    },
    {
     "data": {
      "image/png": "[encoded data removed]",
      "text/plain": [
       "<Figure size 432x288 with 1 Axes>"
      ]
     },
     "metadata": {
      "needs_background": "light"
     },
     "output_type": "display_data"
    }
   ],
   "source": [
    "df['ceil']=df['ceil'].apply(np.round)\n",
    "sns.countplot('ceil',data=df)"
   ]
  },
  {
   "cell_type": "code",
   "execution_count": 25,
   "metadata": {},
   "outputs": [
    {
     "data": {
      "text/plain": [
       "<matplotlib.axes._subplots.AxesSubplot at 0x1dd515e8c88>"
      ]
     },
     "execution_count": 25,
     "metadata": {},
     "output_type": "execute_result"
    },
    {
     "data": {
      "image/png": "[encoded data removed]",
      "text/plain": [
       "<Figure size 432x288 with 1 Axes>"
      ]
     },
     "metadata": {
      "needs_background": "light"
     },
     "output_type": "display_data"
    }
   ],
   "source": [
    "df=df[df.ceil <4]\n",
    "\n",
    "sns.countplot('quality',data=df)"
   ]
  },
  {
   "cell_type": "code",
   "execution_count": 34,
   "metadata": {},
   "outputs": [
    {
     "data": {
      "text/plain": [
       "array([ 8.,  6.,  7., 10.,  9.,  5., 11.,  4., 12., 13.,  3.])"
      ]
     },
     "execution_count": 34,
     "metadata": {},
     "output_type": "execute_result"
    }
   ],
   "source": [
    "df.quality.unique()"
   ]
  },
  {
   "cell_type": "code",
   "execution_count": 36,
   "metadata": {},
   "outputs": [],
   "source": [
    "df['quality']=df['quality'].replace(3.,0)\n",
    "df['quality']=df['quality'].replace(4.,1)\n",
    "df['quality']=df['quality'].replace(5.,2)\n",
    "df['quality']=df['quality'].replace(6.,3)\n",
    "df['quality']=df['quality'].replace(7.,4)\n",
    "df['quality']=df['quality'].replace(8.,5)\n",
    "df['quality']=df['quality'].replace(9.,6)\n",
    "df['quality']=df['quality'].replace(10.,7)\n",
    "df['quality']=df['quality'].replace(11.,8)\n",
    "df['quality']=df['quality'].replace(12.,9)\n",
    "df['quality']=df['quality'].replace(13.,10)"
   ]
  },
  {
   "cell_type": "code",
   "execution_count": 37,
   "metadata": {},
   "outputs": [
    {
     "data": {
      "text/plain": [
       "array([ 5.,  3.,  4.,  7.,  6.,  2.,  8.,  1.,  9., 10.])"
      ]
     },
     "execution_count": 37,
     "metadata": {},
     "output_type": "execute_result"
    }
   ],
   "source": [
    "df.quality.unique()"
   ]
  },
  {
   "cell_type": "code",
   "execution_count": 38,
   "metadata": {},
   "outputs": [
    {
     "data": {
      "text/plain": [
       "<matplotlib.axes._subplots.AxesSubplot at 0x1dd50fdc248>"
      ]
     },
     "execution_count": 38,
     "metadata": {},
     "output_type": "execute_result"
    },
    {
     "data": {
      "image/png": "[encoded data removed]",
      "text/plain": [
       "<Figure size 432x288 with 1 Axes>"
      ]
     },
     "metadata": {
      "needs_background": "light"
     },
     "output_type": "display_data"
    }
   ],
   "source": [
    "sns.countplot('quality',data=df)"
   ]
  },
  {
   "cell_type": "code",
   "execution_count": null,
   "metadata": {},
   "outputs": [],
   "source": [
    "snd.pairplot(df)"
   ]
  },
  {
   "cell_type": "code",
   "execution_count": 39,
   "metadata": {},
   "outputs": [
    {
     "data": {
      "text/plain": [
       "price               1.144793e+11\n",
       "room_bed            7.547367e-01\n",
       "room_bath           5.148861e-01\n",
       "living_measure      7.685107e+05\n",
       "lot_measure         1.667658e+09\n",
       "ceil                3.053961e-01\n",
       "coast               7.082975e-03\n",
       "condition           4.226054e-01\n",
       "quality             1.331837e+00\n",
       "ceil_measure        6.414754e+05\n",
       "basement            1.882381e+05\n",
       "yr_built            8.607014e+02\n",
       "yr_renovated        1.604826e+05\n",
       "zipcode             2.865772e+03\n",
       "lat                 1.925440e-02\n",
       "long                1.981048e-02\n",
       "living_measure15    4.566286e+05\n",
       "lot_measure15       7.049787e+08\n",
       "furnished           1.562596e-01\n",
       "total_area          1.681162e+09\n",
       "dtype: float64"
      ]
     },
     "execution_count": 39,
     "metadata": {},
     "output_type": "execute_result"
    }
   ],
   "source": [
    "df.var()"
   ]
  },
  {
   "cell_type": "code",
   "execution_count": null,
   "metadata": {},
   "outputs": [],
   "source": []
  }
 ],
 "metadata": {
  "kernelspec": {
   "display_name": "Python 3",
   "language": "python",
   "name": "python3"
  },
  "language_info": {
   "codemirror_mode": {
    "name": "ipython",
    "version": 3
   },
   "file_extension": ".py",
   "mimetype": "text/x-python",
   "name": "python",
   "nbconvert_exporter": "python",
   "pygments_lexer": "ipython3",
   "version": "3.7.6"
  }
 },
 "nbformat": 4,
 "nbformat_minor": 4
}
