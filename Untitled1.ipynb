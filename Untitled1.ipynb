{
 "cells": [
  {
   "cell_type": "code",
   "execution_count": 1,
   "metadata": {},
   "outputs": [
    {
     "data": {
      "text/html": [
       "<div>\n",
       "<style scoped>\n",
       "    .dataframe tbody tr th:only-of-type {\n",
       "        vertical-align: middle;\n",
       "    }\n",
       "\n",
       "    .dataframe tbody tr th {\n",
       "        vertical-align: top;\n",
       "    }\n",
       "\n",
       "    .dataframe thead th {\n",
       "        text-align: right;\n",
       "    }\n",
       "</style>\n",
       "<table border=\"1\" class=\"dataframe\">\n",
       "  <thead>\n",
       "    <tr style=\"text-align: right;\">\n",
       "      <th></th>\n",
       "      <th>cid</th>\n",
       "      <th>dayhours</th>\n",
       "      <th>price</th>\n",
       "      <th>room_bed</th>\n",
       "      <th>room_bath</th>\n",
       "      <th>living_measure</th>\n",
       "      <th>lot_measure</th>\n",
       "      <th>ceil</th>\n",
       "      <th>coast</th>\n",
       "      <th>sight</th>\n",
       "      <th>...</th>\n",
       "      <th>basement</th>\n",
       "      <th>yr_built</th>\n",
       "      <th>yr_renovated</th>\n",
       "      <th>zipcode</th>\n",
       "      <th>lat</th>\n",
       "      <th>long</th>\n",
       "      <th>living_measure15</th>\n",
       "      <th>lot_measure15</th>\n",
       "      <th>furnished</th>\n",
       "      <th>total_area</th>\n",
       "    </tr>\n",
       "  </thead>\n",
       "  <tbody>\n",
       "    <tr>\n",
       "      <th>0</th>\n",
       "      <td>3876100940</td>\n",
       "      <td>20150427T000000</td>\n",
       "      <td>600000</td>\n",
       "      <td>4.0</td>\n",
       "      <td>1.75</td>\n",
       "      <td>3050.0</td>\n",
       "      <td>9440.0</td>\n",
       "      <td>1</td>\n",
       "      <td>0</td>\n",
       "      <td>0.0</td>\n",
       "      <td>...</td>\n",
       "      <td>1250.0</td>\n",
       "      <td>1966</td>\n",
       "      <td>0</td>\n",
       "      <td>98034</td>\n",
       "      <td>47.7228</td>\n",
       "      <td>-122.183</td>\n",
       "      <td>2020.0</td>\n",
       "      <td>8660.0</td>\n",
       "      <td>0.0</td>\n",
       "      <td>12490</td>\n",
       "    </tr>\n",
       "    <tr>\n",
       "      <th>1</th>\n",
       "      <td>3145600250</td>\n",
       "      <td>20150317T000000</td>\n",
       "      <td>190000</td>\n",
       "      <td>2.0</td>\n",
       "      <td>1.00</td>\n",
       "      <td>670.0</td>\n",
       "      <td>3101.0</td>\n",
       "      <td>1</td>\n",
       "      <td>0</td>\n",
       "      <td>0.0</td>\n",
       "      <td>...</td>\n",
       "      <td>0.0</td>\n",
       "      <td>1948</td>\n",
       "      <td>0</td>\n",
       "      <td>98118</td>\n",
       "      <td>47.5546</td>\n",
       "      <td>-122.274</td>\n",
       "      <td>1660.0</td>\n",
       "      <td>4100.0</td>\n",
       "      <td>0.0</td>\n",
       "      <td>3771</td>\n",
       "    </tr>\n",
       "    <tr>\n",
       "      <th>2</th>\n",
       "      <td>7129303070</td>\n",
       "      <td>20140820T000000</td>\n",
       "      <td>735000</td>\n",
       "      <td>4.0</td>\n",
       "      <td>2.75</td>\n",
       "      <td>3040.0</td>\n",
       "      <td>2415.0</td>\n",
       "      <td>2</td>\n",
       "      <td>1</td>\n",
       "      <td>4.0</td>\n",
       "      <td>...</td>\n",
       "      <td>0.0</td>\n",
       "      <td>1966</td>\n",
       "      <td>0</td>\n",
       "      <td>98118</td>\n",
       "      <td>47.5188</td>\n",
       "      <td>-122.256</td>\n",
       "      <td>2620.0</td>\n",
       "      <td>2433.0</td>\n",
       "      <td>0.0</td>\n",
       "      <td>5455</td>\n",
       "    </tr>\n",
       "    <tr>\n",
       "      <th>3</th>\n",
       "      <td>7338220280</td>\n",
       "      <td>20141010T000000</td>\n",
       "      <td>257000</td>\n",
       "      <td>3.0</td>\n",
       "      <td>2.50</td>\n",
       "      <td>1740.0</td>\n",
       "      <td>3721.0</td>\n",
       "      <td>2</td>\n",
       "      <td>0</td>\n",
       "      <td>0.0</td>\n",
       "      <td>...</td>\n",
       "      <td>0.0</td>\n",
       "      <td>2009</td>\n",
       "      <td>0</td>\n",
       "      <td>98002</td>\n",
       "      <td>47.3363</td>\n",
       "      <td>-122.213</td>\n",
       "      <td>2030.0</td>\n",
       "      <td>3794.0</td>\n",
       "      <td>0.0</td>\n",
       "      <td>5461</td>\n",
       "    </tr>\n",
       "    <tr>\n",
       "      <th>4</th>\n",
       "      <td>7950300670</td>\n",
       "      <td>20150218T000000</td>\n",
       "      <td>450000</td>\n",
       "      <td>2.0</td>\n",
       "      <td>1.00</td>\n",
       "      <td>1120.0</td>\n",
       "      <td>4590.0</td>\n",
       "      <td>1</td>\n",
       "      <td>0</td>\n",
       "      <td>0.0</td>\n",
       "      <td>...</td>\n",
       "      <td>0.0</td>\n",
       "      <td>1924</td>\n",
       "      <td>0</td>\n",
       "      <td>98118</td>\n",
       "      <td>47.5663</td>\n",
       "      <td>-122.285</td>\n",
       "      <td>1120.0</td>\n",
       "      <td>5100.0</td>\n",
       "      <td>0.0</td>\n",
       "      <td>5710</td>\n",
       "    </tr>\n",
       "  </tbody>\n",
       "</table>\n",
       "<p>5 rows × 23 columns</p>\n",
       "</div>"
      ],
      "text/plain": [
       "          cid         dayhours   price  room_bed  room_bath  living_measure  \\\n",
       "0  3876100940  20150427T000000  600000       4.0       1.75          3050.0   \n",
       "1  3145600250  20150317T000000  190000       2.0       1.00           670.0   \n",
       "2  7129303070  20140820T000000  735000       4.0       2.75          3040.0   \n",
       "3  7338220280  20141010T000000  257000       3.0       2.50          1740.0   \n",
       "4  7950300670  20150218T000000  450000       2.0       1.00          1120.0   \n",
       "\n",
       "   lot_measure ceil coast  sight  ... basement  yr_built  yr_renovated  \\\n",
       "0       9440.0    1     0    0.0  ...   1250.0      1966             0   \n",
       "1       3101.0    1     0    0.0  ...      0.0      1948             0   \n",
       "2       2415.0    2     1    4.0  ...      0.0      1966             0   \n",
       "3       3721.0    2     0    0.0  ...      0.0      2009             0   \n",
       "4       4590.0    1     0    0.0  ...      0.0      1924             0   \n",
       "\n",
       "   zipcode      lat     long  living_measure15  lot_measure15 furnished  \\\n",
       "0    98034  47.7228 -122.183            2020.0         8660.0       0.0   \n",
       "1    98118  47.5546 -122.274            1660.0         4100.0       0.0   \n",
       "2    98118  47.5188 -122.256            2620.0         2433.0       0.0   \n",
       "3    98002  47.3363 -122.213            2030.0         3794.0       0.0   \n",
       "4    98118  47.5663 -122.285            1120.0         5100.0       0.0   \n",
       "\n",
       "   total_area  \n",
       "0       12490  \n",
       "1        3771  \n",
       "2        5455  \n",
       "3        5461  \n",
       "4        5710  \n",
       "\n",
       "[5 rows x 23 columns]"
      ]
     },
     "execution_count": 1,
     "metadata": {},
     "output_type": "execute_result"
    }
   ],
   "source": [
    "import numpy as np\n",
    "import pandas as pd\n",
    "df= pd.read_excel(\"C:\\\\Users\\\\RAM\\\\Downloads\\\\innercity.xlsx\")\n",
    "df.head()"
   ]
  },
  {
   "cell_type": "code",
   "execution_count": 2,
   "metadata": {},
   "outputs": [],
   "source": [
    "#drop unnecessary columns\n",
    "df.drop(['cid','sight','long','lat'], axis=1, inplace=True)"
   ]
  },
  {
   "cell_type": "code",
   "execution_count": 3,
   "metadata": {},
   "outputs": [],
   "source": [
    "#We have special character '$' in our data, replacing those with NaN\n",
    "for columns in df.columns:\n",
    "    df[columns]=df[columns].replace('$',np.nan)"
   ]
  },
  {
   "cell_type": "code",
   "execution_count": 4,
   "metadata": {},
   "outputs": [
    {
     "data": {
      "text/plain": [
       "dayhours              0\n",
       "price                 0\n",
       "room_bed            108\n",
       "room_bath           108\n",
       "living_measure       17\n",
       "lot_measure          42\n",
       "ceil                 72\n",
       "coast                31\n",
       "condition            85\n",
       "quality               1\n",
       "ceil_measure          1\n",
       "basement              1\n",
       "yr_built             15\n",
       "yr_renovated          0\n",
       "zipcode               0\n",
       "living_measure15    166\n",
       "lot_measure15        29\n",
       "furnished            29\n",
       "total_area           68\n",
       "dtype: int64"
      ]
     },
     "execution_count": 4,
     "metadata": {},
     "output_type": "execute_result"
    }
   ],
   "source": [
    "#calculating NaN for each column\n",
    "df.isnull().sum()"
   ]
  },
  {
   "cell_type": "code",
   "execution_count": 5,
   "metadata": {},
   "outputs": [
    {
     "data": {
      "text/plain": [
       "dayhours            False\n",
       "price               False\n",
       "room_bed            False\n",
       "room_bath           False\n",
       "living_measure      False\n",
       "lot_measure         False\n",
       "ceil                False\n",
       "coast               False\n",
       "condition           False\n",
       "quality             False\n",
       "ceil_measure        False\n",
       "basement            False\n",
       "yr_built            False\n",
       "yr_renovated        False\n",
       "zipcode             False\n",
       "living_measure15    False\n",
       "lot_measure15       False\n",
       "furnished           False\n",
       "total_area          False\n",
       "dtype: bool"
      ]
     },
     "execution_count": 5,
     "metadata": {},
     "output_type": "execute_result"
    }
   ],
   "source": [
    "#handling with null values\n",
    "cat_columns=['room_bed', 'room_bath', 'ceil', 'coast', 'condition', 'quality', 'yr_built', 'furnished']\n",
    "for i in cat_columns:\n",
    "    df[i]=df[i].fillna(df[i].mode()[0])\n",
    "    \n",
    "num_columns=['living_measure','lot_measure','ceil_measure','basement','living_measure15','lot_measure15','total_area']\n",
    "for i in num_columns:\n",
    "    df[i]=df[i].fillna(df[i].mean())\n",
    "    \n",
    "#double checking NaN\n",
    "df.isnull().any()"
   ]
  },
  {
   "cell_type": "code",
   "execution_count": 6,
   "metadata": {},
   "outputs": [
    {
     "data": {
      "text/plain": [
       "array([1.75, 1.  , 2.75, 2.5 , 1.5 , 3.5 , 2.  , 2.25, 3.  , 4.  , 3.25,\n",
       "       3.75, 5.  , 0.75, 5.5 , 4.25, 4.5 , 4.75, 8.  , 6.75, 5.25, 6.  ,\n",
       "       0.  , 1.25, 5.75, 7.5 , 6.5 , 0.5 , 7.75, 6.25])"
      ]
     },
     "execution_count": 6,
     "metadata": {},
     "output_type": "execute_result"
    }
   ],
   "source": [
    "df['room_bath'].unique()"
   ]
  },
  {
   "cell_type": "code",
   "execution_count": 7,
   "metadata": {},
   "outputs": [
    {
     "data": {
      "text/plain": [
       "array([1. , 2. , 3. , 1.5, 2.5, 3.5])"
      ]
     },
     "execution_count": 7,
     "metadata": {},
     "output_type": "execute_result"
    }
   ],
   "source": [
    "df['ceil'].unique()"
   ]
  },
  {
   "cell_type": "code",
   "execution_count": 8,
   "metadata": {},
   "outputs": [],
   "source": [
    "#some categorical coulmns are not perfect (its not possible to have rooms or floors in float like 1.5 or 2.75)\n",
    "#so making perfect categories\n",
    "df['ceil']=df['ceil'].apply(np.ceil)\n",
    "df['room_bath']=df['room_bath'].apply(np.ceil)"
   ]
  },
  {
   "cell_type": "code",
   "execution_count": 9,
   "metadata": {},
   "outputs": [],
   "source": [
    "#creating date format\n",
    "df['dayhours']=df['dayhours'].map(lambda x: str(x)[:-7])\n",
    "df['dayhours'] = pd.to_datetime(df['dayhours'], format='%Y%m%d')"
   ]
  },
  {
   "cell_type": "code",
   "execution_count": 10,
   "metadata": {},
   "outputs": [
    {
     "data": {
      "text/plain": [
       "Text(0, 0.5, 'count')"
      ]
     },
     "execution_count": 10,
     "metadata": {},
     "output_type": "execute_result"
    },
    {
     "data": {
      "image/png": "[encoded data removed]",
      "text/plain": [
       "<Figure size 864x432 with 1 Axes>"
      ]
     },
     "metadata": {
      "needs_background": "light"
     },
     "output_type": "display_data"
    }
   ],
   "source": [
    "#finding outliers\n",
    "import matplotlib.pyplot as plt\n",
    "plt.rcParams['figure.figsize']=(12,6)\n",
    "plt.hist(df.room_bed,rwidth=0.5)\n",
    "plt.xlabel('bed_rooms')\n",
    "plt.ylabel('count')"
   ]
  },
  {
   "cell_type": "code",
   "execution_count": 11,
   "metadata": {},
   "outputs": [
    {
     "data": {
      "text/plain": [
       "Text(0, 0.5, 'count')"
      ]
     },
     "execution_count": 11,
     "metadata": {},
     "output_type": "execute_result"
    },
    {
     "data": {
      "image/png": "[encoded data removed]",
      "text/plain": [
       "<Figure size 864x432 with 1 Axes>"
      ]
     },
     "metadata": {
      "needs_background": "light"
     },
     "output_type": "display_data"
    }
   ],
   "source": [
    "plt.rcParams['figure.figsize']=(12,6)\n",
    "plt.hist(df.room_bath,rwidth=0.5)\n",
    "plt.xlabel('bath_rooms')\n",
    "plt.ylabel('count')"
   ]
  },
  {
   "cell_type": "code",
   "execution_count": 12,
   "metadata": {},
   "outputs": [],
   "source": [
    "#houses with more than 6 bed room and 5 bath room is not common. So, considering those as outliers and removing\n",
    "df=df[df.room_bed <=6]\n",
    "df=df[df.room_bath <=5]\n",
    "\n",
    "#houses with 0 bed room and 0 bath room is not possible. So, removing those unusual rows\n",
    "df=df[df.room_bed !=0]\n",
    "df=df[df.room_bath !=0]"
   ]
  },
  {
   "cell_type": "code",
   "execution_count": 13,
   "metadata": {},
   "outputs": [],
   "source": [
    "#no of bath rooms more that number of bed rooms is quiet unusual. So considering them as outliers and removing\n",
    "df=df[df.room_bath<df.room_bed+1]"
   ]
  },
  {
   "cell_type": "code",
   "execution_count": 14,
   "metadata": {},
   "outputs": [],
   "source": [
    "#Splitting dependent and independent values\n",
    "X=df.drop(['price','dayhours'], axis='columns')\n",
    "y=df.price"
   ]
  },
  {
   "cell_type": "code",
   "execution_count": 18,
   "metadata": {},
   "outputs": [],
   "source": [
    "#normalizing the dataset for better score\n",
    "from sklearn.preprocessing import MinMaxScaler\n",
    "scaler=MinMaxScaler()\n",
    "\n",
    "normalized_arr=scaler.fit_transform(X)\n",
    "norm_X=pd.DataFrame(normalized_arr, columns=X.columns)"
   ]
  },
  {
   "cell_type": "code",
   "execution_count": 19,
   "metadata": {},
   "outputs": [],
   "source": [
    "#Splitting into train set and test set\n",
    "from sklearn.model_selection import train_test_split\n",
    "X_train,X_test,y_train,y_test=train_test_split(norm_X,y,test_size=0.2,random_state=15)"
   ]
  },
  {
   "cell_type": "code",
   "execution_count": 20,
   "metadata": {},
   "outputs": [
    {
     "data": {
      "text/plain": [
       "LinearRegression()"
      ]
     },
     "execution_count": 20,
     "metadata": {},
     "output_type": "execute_result"
    }
   ],
   "source": [
    "from sklearn.linear_model import LinearRegression\n",
    "model=LinearRegression()\n",
    "model.fit(X_train,y_train)"
   ]
  },
  {
   "cell_type": "code",
   "execution_count": 21,
   "metadata": {},
   "outputs": [
    {
     "data": {
      "text/plain": [
       "0.6349524283320076"
      ]
     },
     "execution_count": 21,
     "metadata": {},
     "output_type": "execute_result"
    }
   ],
   "source": [
    "model.score(X_test,y_test)"
   ]
  },
  {
   "cell_type": "code",
   "execution_count": 22,
   "metadata": {},
   "outputs": [
    {
     "data": {
      "text/plain": [
       "array([0.61975005, 0.62407721, 0.62745486, 0.63897191, 0.6132961 ])"
      ]
     },
     "execution_count": 22,
     "metadata": {},
     "output_type": "execute_result"
    }
   ],
   "source": [
    "from sklearn.model_selection import ShuffleSplit\n",
    "from sklearn.model_selection import cross_val_score\n",
    "\n",
    "cv=ShuffleSplit(n_splits=5,test_size=0.2, random_state=0)\n",
    "cross_val_score(model, X, y, cv=cv)"
   ]
  },
  {
   "cell_type": "code",
   "execution_count": 23,
   "metadata": {},
   "outputs": [],
   "source": [
    "from sklearn.model_selection import GridSearchCV\n",
    "from sklearn.linear_model import Lasso\n",
    "from sklearn.tree import DecisionTreeRegressor"
   ]
  },
  {
   "cell_type": "code",
   "execution_count": 24,
   "metadata": {},
   "outputs": [
    {
     "name": "stderr",
     "output_type": "stream",
     "text": [
      "C:\\Users\\RAM\\anaconda3\\lib\\site-packages\\sklearn\\linear_model\\_coordinate_descent.py:531: ConvergenceWarning: Objective did not converge. You might want to increase the number of iterations. Duality gap: 330331117107364.25, tolerance: 182382543636.4511\n",
      "  positive)\n",
      "C:\\Users\\RAM\\anaconda3\\lib\\site-packages\\sklearn\\linear_model\\_coordinate_descent.py:531: ConvergenceWarning: Objective did not converge. You might want to increase the number of iterations. Duality gap: 340333181294255.06, tolerance: 187084543974.33926\n",
      "  positive)\n",
      "C:\\Users\\RAM\\anaconda3\\lib\\site-packages\\sklearn\\linear_model\\_coordinate_descent.py:531: ConvergenceWarning: Objective did not converge. You might want to increase the number of iterations. Duality gap: 332132000096140.56, tolerance: 182462771292.87247\n",
      "  positive)\n",
      "C:\\Users\\RAM\\anaconda3\\lib\\site-packages\\sklearn\\linear_model\\_coordinate_descent.py:531: ConvergenceWarning: Objective did not converge. You might want to increase the number of iterations. Duality gap: 335714393367947.8, tolerance: 182961087835.88852\n",
      "  positive)\n",
      "C:\\Users\\RAM\\anaconda3\\lib\\site-packages\\sklearn\\linear_model\\_coordinate_descent.py:531: ConvergenceWarning: Objective did not converge. You might want to increase the number of iterations. Duality gap: 312354474084153.44, tolerance: 173621296782.6588\n",
      "  positive)\n",
      "C:\\Users\\RAM\\anaconda3\\lib\\site-packages\\sklearn\\linear_model\\_coordinate_descent.py:531: ConvergenceWarning: Objective did not converge. You might want to increase the number of iterations. Duality gap: 330333195608002.8, tolerance: 182382543636.4511\n",
      "  positive)\n",
      "C:\\Users\\RAM\\anaconda3\\lib\\site-packages\\sklearn\\linear_model\\_coordinate_descent.py:531: ConvergenceWarning: Objective did not converge. You might want to increase the number of iterations. Duality gap: 340312952387887.5, tolerance: 187084543974.33926\n",
      "  positive)\n",
      "C:\\Users\\RAM\\anaconda3\\lib\\site-packages\\sklearn\\linear_model\\_coordinate_descent.py:531: ConvergenceWarning: Objective did not converge. You might want to increase the number of iterations. Duality gap: 332160341203016.1, tolerance: 182462771292.87247\n",
      "  positive)\n",
      "C:\\Users\\RAM\\anaconda3\\lib\\site-packages\\sklearn\\linear_model\\_coordinate_descent.py:531: ConvergenceWarning: Objective did not converge. You might want to increase the number of iterations. Duality gap: 335712262203303.1, tolerance: 182961087835.88852\n",
      "  positive)\n",
      "C:\\Users\\RAM\\anaconda3\\lib\\site-packages\\sklearn\\linear_model\\_coordinate_descent.py:531: ConvergenceWarning: Objective did not converge. You might want to increase the number of iterations. Duality gap: 312394935424486.5, tolerance: 173621296782.6588\n",
      "  positive)\n",
      "C:\\Users\\RAM\\anaconda3\\lib\\site-packages\\sklearn\\linear_model\\_coordinate_descent.py:531: ConvergenceWarning: Objective did not converge. You might want to increase the number of iterations. Duality gap: 330450064106922.4, tolerance: 182382543636.4511\n",
      "  positive)\n",
      "C:\\Users\\RAM\\anaconda3\\lib\\site-packages\\sklearn\\linear_model\\_coordinate_descent.py:531: ConvergenceWarning: Objective did not converge. You might want to increase the number of iterations. Duality gap: 340325920103293.7, tolerance: 187084543974.33926\n",
      "  positive)\n",
      "C:\\Users\\RAM\\anaconda3\\lib\\site-packages\\sklearn\\linear_model\\_coordinate_descent.py:531: ConvergenceWarning: Objective did not converge. You might want to increase the number of iterations. Duality gap: 332174313313412.44, tolerance: 182462771292.87247\n",
      "  positive)\n",
      "C:\\Users\\RAM\\anaconda3\\lib\\site-packages\\sklearn\\linear_model\\_coordinate_descent.py:531: ConvergenceWarning: Objective did not converge. You might want to increase the number of iterations. Duality gap: 335713570778251.5, tolerance: 182961087835.88852\n",
      "  positive)\n",
      "C:\\Users\\RAM\\anaconda3\\lib\\site-packages\\sklearn\\linear_model\\_coordinate_descent.py:531: ConvergenceWarning: Objective did not converge. You might want to increase the number of iterations. Duality gap: 312370923861201.56, tolerance: 173621296782.6588\n",
      "  positive)\n",
      "C:\\Users\\RAM\\anaconda3\\lib\\site-packages\\sklearn\\linear_model\\_coordinate_descent.py:531: ConvergenceWarning: Objective did not converge. You might want to increase the number of iterations. Duality gap: 330346565404100.6, tolerance: 182382543636.4511\n",
      "  positive)\n",
      "C:\\Users\\RAM\\anaconda3\\lib\\site-packages\\sklearn\\linear_model\\_coordinate_descent.py:531: ConvergenceWarning: Objective did not converge. You might want to increase the number of iterations. Duality gap: 340327256127669.94, tolerance: 187084543974.33926\n",
      "  positive)\n",
      "C:\\Users\\RAM\\anaconda3\\lib\\site-packages\\sklearn\\linear_model\\_coordinate_descent.py:531: ConvergenceWarning: Objective did not converge. You might want to increase the number of iterations. Duality gap: 332172993821140.0, tolerance: 182462771292.87247\n",
      "  positive)\n",
      "C:\\Users\\RAM\\anaconda3\\lib\\site-packages\\sklearn\\linear_model\\_coordinate_descent.py:531: ConvergenceWarning: Objective did not converge. You might want to increase the number of iterations. Duality gap: 335726098249349.3, tolerance: 182961087835.88852\n",
      "  positive)\n",
      "C:\\Users\\RAM\\anaconda3\\lib\\site-packages\\sklearn\\linear_model\\_coordinate_descent.py:531: ConvergenceWarning: Objective did not converge. You might want to increase the number of iterations. Duality gap: 312408733229557.1, tolerance: 173621296782.6588\n",
      "  positive)\n",
      "C:\\Users\\RAM\\anaconda3\\lib\\site-packages\\sklearn\\linear_model\\_coordinate_descent.py:531: ConvergenceWarning: Objective did not converge. You might want to increase the number of iterations. Duality gap: 416460257468352.9, tolerance: 227760740075.31482\n",
      "  positive)\n"
     ]
    },
    {
     "data": {
      "text/html": [
       "<div>\n",
       "<style scoped>\n",
       "    .dataframe tbody tr th:only-of-type {\n",
       "        vertical-align: middle;\n",
       "    }\n",
       "\n",
       "    .dataframe tbody tr th {\n",
       "        vertical-align: top;\n",
       "    }\n",
       "\n",
       "    .dataframe thead th {\n",
       "        text-align: right;\n",
       "    }\n",
       "</style>\n",
       "<table border=\"1\" class=\"dataframe\">\n",
       "  <thead>\n",
       "    <tr style=\"text-align: right;\">\n",
       "      <th></th>\n",
       "      <th>model</th>\n",
       "      <th>best_score</th>\n",
       "      <th>best_params</th>\n",
       "    </tr>\n",
       "  </thead>\n",
       "  <tbody>\n",
       "    <tr>\n",
       "      <th>0</th>\n",
       "      <td>linear_regression</td>\n",
       "      <td>0.624710</td>\n",
       "      <td>{'normalize': True}</td>\n",
       "    </tr>\n",
       "    <tr>\n",
       "      <th>1</th>\n",
       "      <td>lasso</td>\n",
       "      <td>0.624759</td>\n",
       "      <td>{'alpha': 2, 'selection': 'random'}</td>\n",
       "    </tr>\n",
       "    <tr>\n",
       "      <th>2</th>\n",
       "      <td>decision_tree</td>\n",
       "      <td>0.597353</td>\n",
       "      <td>{'criterion': 'friedman_mse', 'splitter': 'best'}</td>\n",
       "    </tr>\n",
       "  </tbody>\n",
       "</table>\n",
       "</div>"
      ],
      "text/plain": [
       "               model  best_score  \\\n",
       "0  linear_regression    0.624710   \n",
       "1              lasso    0.624759   \n",
       "2      decision_tree    0.597353   \n",
       "\n",
       "                                         best_params  \n",
       "0                                {'normalize': True}  \n",
       "1                {'alpha': 2, 'selection': 'random'}  \n",
       "2  {'criterion': 'friedman_mse', 'splitter': 'best'}  "
      ]
     },
     "execution_count": 24,
     "metadata": {},
     "output_type": "execute_result"
    }
   ],
   "source": [
    "def best_model(X,y):\n",
    "    model_params={\n",
    "        'linear_regression':{\n",
    "            'model':LinearRegression(),\n",
    "            'params':{\n",
    "                'normalize':[True, False]\n",
    "            }\n",
    "        },\n",
    "        'lasso':{\n",
    "            'model':Lasso(),\n",
    "            'params':{\n",
    "                'alpha':[1,2],\n",
    "                'selection':['random','cyclic']\n",
    "            }\n",
    "        },\n",
    "        'decision_tree':{\n",
    "            'model':DecisionTreeRegressor(),\n",
    "            'params':{\n",
    "                'criterion':['mse', 'friedman_mse'],\n",
    "                'splitter':['best','random']\n",
    "            }\n",
    "        }\n",
    "    }\n",
    "    score=[]\n",
    "    cv=ShuffleSplit(n_splits=5,test_size=0.2, random_state=0)\n",
    "    for algo_name, config in model_params.items():\n",
    "        gs=GridSearchCV(config['model'],config['params'],cv=cv,return_train_score=False)\n",
    "        gs.fit(X,y)\n",
    "        score.append({\n",
    "            'model':algo_name,\n",
    "            'best_score':gs.best_score_,\n",
    "            'best_params':gs.best_params_\n",
    "        })\n",
    "    return pd.DataFrame(score,columns=['model','best_score','best_params'])\n",
    "\n",
    "best_model(X,y)"
   ]
  },
  {
   "cell_type": "code",
   "execution_count": 25,
   "metadata": {},
   "outputs": [
    {
     "data": {
      "text/html": [
       "<div>\n",
       "<style scoped>\n",
       "    .dataframe tbody tr th:only-of-type {\n",
       "        vertical-align: middle;\n",
       "    }\n",
       "\n",
       "    .dataframe tbody tr th {\n",
       "        vertical-align: top;\n",
       "    }\n",
       "\n",
       "    .dataframe thead th {\n",
       "        text-align: right;\n",
       "    }\n",
       "</style>\n",
       "<table border=\"1\" class=\"dataframe\">\n",
       "  <thead>\n",
       "    <tr style=\"text-align: right;\">\n",
       "      <th></th>\n",
       "      <th>room_bed</th>\n",
       "      <th>room_bath</th>\n",
       "      <th>living_measure</th>\n",
       "      <th>lot_measure</th>\n",
       "      <th>ceil</th>\n",
       "      <th>coast</th>\n",
       "      <th>condition</th>\n",
       "      <th>quality</th>\n",
       "      <th>ceil_measure</th>\n",
       "      <th>basement</th>\n",
       "      <th>yr_built</th>\n",
       "      <th>yr_renovated</th>\n",
       "      <th>zipcode</th>\n",
       "      <th>living_measure15</th>\n",
       "      <th>lot_measure15</th>\n",
       "      <th>furnished</th>\n",
       "      <th>total_area</th>\n",
       "    </tr>\n",
       "  </thead>\n",
       "  <tbody>\n",
       "    <tr>\n",
       "      <th>14853</th>\n",
       "      <td>0.4</td>\n",
       "      <td>0.25</td>\n",
       "      <td>0.183040</td>\n",
       "      <td>0.028605</td>\n",
       "      <td>0.333333</td>\n",
       "      <td>0.0</td>\n",
       "      <td>0.50</td>\n",
       "      <td>0.6</td>\n",
       "      <td>0.235686</td>\n",
       "      <td>0.000000</td>\n",
       "      <td>0.678261</td>\n",
       "      <td>0.0</td>\n",
       "      <td>0.530303</td>\n",
       "      <td>0.113750</td>\n",
       "      <td>0.006163</td>\n",
       "      <td>1.0</td>\n",
       "      <td>0.029348</td>\n",
       "    </tr>\n",
       "    <tr>\n",
       "      <th>5096</th>\n",
       "      <td>0.4</td>\n",
       "      <td>0.25</td>\n",
       "      <td>0.165460</td>\n",
       "      <td>0.007989</td>\n",
       "      <td>0.000000</td>\n",
       "      <td>0.0</td>\n",
       "      <td>0.75</td>\n",
       "      <td>0.4</td>\n",
       "      <td>0.174434</td>\n",
       "      <td>0.082857</td>\n",
       "      <td>0.478261</td>\n",
       "      <td>0.0</td>\n",
       "      <td>0.777778</td>\n",
       "      <td>0.309929</td>\n",
       "      <td>0.018247</td>\n",
       "      <td>0.0</td>\n",
       "      <td>0.008634</td>\n",
       "    </tr>\n",
       "    <tr>\n",
       "      <th>14078</th>\n",
       "      <td>0.6</td>\n",
       "      <td>0.25</td>\n",
       "      <td>0.180972</td>\n",
       "      <td>0.001720</td>\n",
       "      <td>0.333333</td>\n",
       "      <td>0.0</td>\n",
       "      <td>0.50</td>\n",
       "      <td>0.6</td>\n",
       "      <td>0.233023</td>\n",
       "      <td>0.000000</td>\n",
       "      <td>0.043478</td>\n",
       "      <td>0.0</td>\n",
       "      <td>0.560606</td>\n",
       "      <td>0.291000</td>\n",
       "      <td>0.003388</td>\n",
       "      <td>1.0</td>\n",
       "      <td>0.002457</td>\n",
       "    </tr>\n",
       "    <tr>\n",
       "      <th>8207</th>\n",
       "      <td>0.4</td>\n",
       "      <td>0.25</td>\n",
       "      <td>0.195450</td>\n",
       "      <td>0.006533</td>\n",
       "      <td>0.000000</td>\n",
       "      <td>0.0</td>\n",
       "      <td>0.50</td>\n",
       "      <td>0.4</td>\n",
       "      <td>0.101198</td>\n",
       "      <td>0.322857</td>\n",
       "      <td>0.747826</td>\n",
       "      <td>0.0</td>\n",
       "      <td>0.272727</td>\n",
       "      <td>0.289279</td>\n",
       "      <td>0.011024</td>\n",
       "      <td>0.0</td>\n",
       "      <td>0.007353</td>\n",
       "    </tr>\n",
       "    <tr>\n",
       "      <th>437</th>\n",
       "      <td>0.4</td>\n",
       "      <td>0.50</td>\n",
       "      <td>0.133402</td>\n",
       "      <td>0.002791</td>\n",
       "      <td>0.333333</td>\n",
       "      <td>0.0</td>\n",
       "      <td>0.50</td>\n",
       "      <td>0.4</td>\n",
       "      <td>0.171771</td>\n",
       "      <td>0.000000</td>\n",
       "      <td>0.878261</td>\n",
       "      <td>0.0</td>\n",
       "      <td>0.090909</td>\n",
       "      <td>0.220444</td>\n",
       "      <td>0.004596</td>\n",
       "      <td>0.0</td>\n",
       "      <td>0.003249</td>\n",
       "    </tr>\n",
       "  </tbody>\n",
       "</table>\n",
       "</div>"
      ],
      "text/plain": [
       "       room_bed  room_bath  living_measure  lot_measure      ceil  coast  \\\n",
       "14853       0.4       0.25        0.183040     0.028605  0.333333    0.0   \n",
       "5096        0.4       0.25        0.165460     0.007989  0.000000    0.0   \n",
       "14078       0.6       0.25        0.180972     0.001720  0.333333    0.0   \n",
       "8207        0.4       0.25        0.195450     0.006533  0.000000    0.0   \n",
       "437         0.4       0.50        0.133402     0.002791  0.333333    0.0   \n",
       "\n",
       "       condition  quality  ceil_measure  basement  yr_built  yr_renovated  \\\n",
       "14853       0.50      0.6      0.235686  0.000000  0.678261           0.0   \n",
       "5096        0.75      0.4      0.174434  0.082857  0.478261           0.0   \n",
       "14078       0.50      0.6      0.233023  0.000000  0.043478           0.0   \n",
       "8207        0.50      0.4      0.101198  0.322857  0.747826           0.0   \n",
       "437         0.50      0.4      0.171771  0.000000  0.878261           0.0   \n",
       "\n",
       "        zipcode  living_measure15  lot_measure15  furnished  total_area  \n",
       "14853  0.530303          0.113750       0.006163        1.0    0.029348  \n",
       "5096   0.777778          0.309929       0.018247        0.0    0.008634  \n",
       "14078  0.560606          0.291000       0.003388        1.0    0.002457  \n",
       "8207   0.272727          0.289279       0.011024        0.0    0.007353  \n",
       "437    0.090909          0.220444       0.004596        0.0    0.003249  "
      ]
     },
     "execution_count": 25,
     "metadata": {},
     "output_type": "execute_result"
    }
   ],
   "source": [
    "X_train.head()"
   ]
  },
  {
   "cell_type": "code",
   "execution_count": null,
   "metadata": {},
   "outputs": [],
   "source": []
  }
 ],
 "metadata": {
  "kernelspec": {
   "display_name": "Python 3",
   "language": "python",
   "name": "python3"
  },
  "language_info": {
   "codemirror_mode": {
    "name": "ipython",
    "version": 3
   },
   "file_extension": ".py",
   "mimetype": "text/x-python",
   "name": "python",
   "nbconvert_exporter": "python",
   "pygments_lexer": "ipython3",
   "version": "3.7.6"
  }
 },
 "nbformat": 4,
 "nbformat_minor": 4
}
